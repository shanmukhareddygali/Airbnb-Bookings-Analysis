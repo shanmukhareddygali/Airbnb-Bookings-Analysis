{
  "nbformat": 4,
  "nbformat_minor": 0,
  "metadata": {
    "colab": {
      "private_outputs": true,
      "provenance": [],
      "collapsed_sections": [
        "vncDsAP0Gaoa",
        "FJNUwmbgGyua",
        "w6K7xa23Elo4",
        "yQaldy8SH6Dl",
        "PH-0ReGfmX4f",
        "mDgbUHAGgjLW",
        "O_i_v8NEhb9l",
        "HhfV-JJviCcP",
        "Y3lxredqlCYt",
        "3RnN4peoiCZX",
        "x71ZqKXriCWQ",
        "7hBIi_osiCS2",
        "JlHwYmJAmNHm",
        "35m5QtbWiB9F",
        "PoPl-ycgm1ru",
        "H0kj-8xxnORC",
        "nA9Y7ga8ng1Z",
        "PBTbrJXOngz2",
        "u3PMJOP6ngxN",
        "dauF4eBmngu3",
        "bKJF3rekwFvQ",
        "MSa1f5Uengrz",
        "GF8Ens_Soomf",
        "0wOQAZs5pc--",
        "K5QZ13OEpz2H",
        "lQ7QKXXCp7Bj",
        "448CDAPjqfQr",
        "KSlN3yHqYklG",
        "t6dVpIINYklI",
        "ijmpgYnKYklI",
        "-JiQyfWJYklI",
        "EM7whBJCYoAo",
        "fge-S5ZAYoAp",
        "85gYPyotYoAp",
        "RoGjAbkUYoAp",
        "4Of9eVA-YrdM",
        "iky9q4vBYrdO",
        "F6T5p64dYrdO",
        "y-Ehk30pYrdP",
        "bamQiAODYuh1",
        "QHF8YVU7Yuh3",
        "GwzvFGzlYuh3",
        "qYpmQ266Yuh3",
        "OH-pJp9IphqM",
        "bbFf2-_FphqN",
        "_ouA3fa0phqN",
        "Seke61FWphqN",
        "PIIx-8_IphqN",
        "t27r6nlMphqO",
        "r2jJGEOYphqO",
        "b0JNsNcRphqO",
        "BZR9WyysphqO",
        "jj7wYXLtphqO",
        "eZrbJ2SmphqO",
        "rFu4xreNphqO",
        "YJ55k-q6phqO",
        "gCFgpxoyphqP",
        "OVtJsKN_phqQ",
        "lssrdh5qphqQ",
        "U2RJ9gkRphqQ",
        "1M8mcRywphqQ",
        "tgIPom80phqQ",
        "JMzcOPDDphqR",
        "x-EpHcCOp1ci",
        "X_VqEhTip1ck",
        "8zGJKyg5p1ck",
        "PVzmfK_Ep1ck",
        "n3dbpmDWp1ck",
        "ylSl6qgtp1ck",
        "ZWILFDl5p1ck",
        "M7G43BXep1ck",
        "Ag9LCva-p1cl",
        "E6MkPsBcp1cl",
        "2cELzS2fp1cl",
        "3MPXvC8up1cl",
        "NC_X3p0fY2L0",
        "UV0SzAkaZNRQ",
        "YPEH6qLeZNRQ",
        "q29F0dvdveiT",
        "EXh0U9oCveiU",
        "22aHeOlLveiV",
        "JcMwzZxoAimU",
        "8G2x9gOozGDZ",
        "gCX9965dhzqZ",
        "gIfDvo9L0UH2"
      ],
      "include_colab_link": true
    },
    "kernelspec": {
      "name": "python3",
      "display_name": "Python 3"
    },
    "language_info": {
      "name": "python"
    }
  },
  "cells": [
    {
      "cell_type": "markdown",
      "metadata": {
        "id": "view-in-github",
        "colab_type": "text"
      },
      "source": [
        "<a href=\"https://colab.research.google.com/github/shanmukhareddygali/EDA/blob/main/Airbnb_booking_analysis.ipynb\" target=\"_parent\"><img src=\"https://colab.research.google.com/assets/colab-badge.svg\" alt=\"Open In Colab\"/></a>"
      ]
    },
    {
      "cell_type": "markdown",
      "source": [
        "# **Project Name**    - **AirBnb Bookings Analysis**\n",
        "\n"
      ],
      "metadata": {
        "id": "vncDsAP0Gaoa"
      }
    },
    {
      "cell_type": "markdown",
      "source": [
        "**Project Type**    - EDA\n",
        "##### **Contribution**    - Individual\n",
        "**Name** - Shanmukha Reddy\n"
      ],
      "metadata": {
        "id": "beRrZCGUAJYm"
      }
    },
    {
      "cell_type": "markdown",
      "source": [
        "# **Project Summary -**"
      ],
      "metadata": {
        "id": "FJNUwmbgGyua"
      }
    },
    {
      "cell_type": "markdown",
      "source": [
        "Airbnb  is an online marketplace that connects people who want to rent out their homes with people looking for accommodations in specific locales. The company has come a long way since 2007, when its co-founders first came up with the idea to invite paying guests to sleep on an air mattress in their living room. According to Airbnb's latest data, it now has more than 7 million listings, covering some 100,000 cities and towns in 220-plus countries and regions worldwide.\n",
        "\n",
        "This project involved exploring and cleaning a dataset to prepare it for analysis. The data exploration process involved identifying and understanding the characteristics of the data, such as the data types, missing values, and distributions of values. The data cleaning process involved identifying and addressing any issues or inconsistencies in the data, such as errors, missing values, or duplicate records and remove outliers.Using data visualization to explore and understand patterns in Airbnb data. I created various graphs and charts to visualize the data, and wrote observations and insights below each one to help us better understand the data and identify useful insights and patterns.\n",
        "\n"
      ],
      "metadata": {
        "id": "F6v_1wHtG2nS"
      }
    },
    {
      "cell_type": "markdown",
      "source": [
        "# **GitHub Link -**"
      ],
      "metadata": {
        "id": "w6K7xa23Elo4"
      }
    },
    {
      "cell_type": "markdown",
      "source": [
        "Provide your GitHub Link here- https://github.com/shanmukhareddygali/EDA"
      ],
      "metadata": {
        "id": "h1o69JH3Eqqn"
      }
    },
    {
      "cell_type": "markdown",
      "source": [
        "# **Problem Statement**\n"
      ],
      "metadata": {
        "id": "yQaldy8SH6Dl"
      }
    },
    {
      "cell_type": "markdown",
      "source": [
        "To perform the exploratory data analysis for understanding the behaviour of customers and hosts on the Airbnb platform to make business decissions."
      ],
      "metadata": {
        "id": "DpeJGUA3kjGy"
      }
    },
    {
      "cell_type": "markdown",
      "source": [
        "#### **Define Your Business Objective?**"
      ],
      "metadata": {
        "id": "PH-0ReGfmX4f"
      }
    },
    {
      "cell_type": "markdown",
      "source": [
        "Since 2008, guests and hosts have used Airbnb to expand on travelling possibilities and present a more unique, personalised way of experiencing the world. Today, Airbnb became one of a kind service that is used and recognized by the whole world. Data analysis on millions of listings provided through Airbnb is a crucial factor for the company. These millions of listings generate a lot of data - data that can be analysed and used for security, business decisions, understanding of customers' and providers' (hosts) behaviour and performance on the platform, guiding marketing initiatives, implementation of innovative additional services and much more. This dataset has around 49,000 observations in it with 16 columns and it is a mix of categorical and numeric values. This project is about explore and analyse the data to discover key understandings and make business decisions."
      ],
      "metadata": {
        "id": "PhDvGCAqmjP1"
      }
    },
    {
      "cell_type": "markdown",
      "source": [
        "# **General Guidelines** : -  "
      ],
      "metadata": {
        "id": "mDgbUHAGgjLW"
      }
    },
    {
      "cell_type": "markdown",
      "source": [
        "1.   Well-structured, formatted, and commented code is required.\n",
        "2.   Exception Handling, Production Grade Code & Deployment Ready Code will be a plus. Those students will be awarded some additional credits.\n",
        "     \n",
        "     The additional credits will have advantages over other students during Star Student selection.\n",
        "       \n",
        "             [ Note: - Deployment Ready Code is defined as, the whole .ipynb notebook should be executable in one go\n",
        "                       without a single error logged. ]\n",
        "\n",
        "3.   Each and every logic should have proper comments.\n",
        "4. You may add as many number of charts you want. Make Sure for each and every chart the following format should be answered.\n",
        "        \n",
        "\n",
        "```\n",
        "# Chart visualization code\n",
        "```\n",
        "            \n",
        "\n",
        "*   Why did you pick the specific chart?\n",
        "*   What is/are the insight(s) found from the chart?\n",
        "* Will the gained insights help creating a positive business impact?\n",
        "Are there any insights that lead to negative growth? Justify with specific reason.\n",
        "\n",
        "5. You have to create at least 20 logical & meaningful charts having important insights.\n",
        "\n",
        "\n",
        "[ Hints : - Do the Vizualization in  a structured way while following \"UBM\" Rule.\n",
        "\n",
        "U - Univariate Analysis,\n",
        "\n",
        "B - Bivariate Analysis (Numerical - Categorical, Numerical - Numerical, Categorical - Categorical)\n",
        "\n",
        "M - Multivariate Analysis\n",
        " ]\n",
        "\n",
        "\n",
        "\n"
      ],
      "metadata": {
        "id": "ZrxVaUj-hHfC"
      }
    },
    {
      "cell_type": "markdown",
      "source": [
        "# ***Let's Begin !***"
      ],
      "metadata": {
        "id": "O_i_v8NEhb9l"
      }
    },
    {
      "cell_type": "markdown",
      "source": [
        "## ***1. Know Your Data***"
      ],
      "metadata": {
        "id": "HhfV-JJviCcP"
      }
    },
    {
      "cell_type": "markdown",
      "source": [
        "### Import Libraries"
      ],
      "metadata": {
        "id": "Y3lxredqlCYt"
      }
    },
    {
      "cell_type": "code",
      "source": [
        "# Import Libraries\n",
        "import pandas as pd\n",
        "import numpy as np\n",
        "import matplotlib.pyplot as plt\n",
        "import seaborn as sns\n",
        "import plotly.express as px"
      ],
      "metadata": {
        "id": "M8Vqi-pPk-HR"
      },
      "execution_count": null,
      "outputs": []
    },
    {
      "cell_type": "markdown",
      "source": [
        "### Dataset Loading"
      ],
      "metadata": {
        "id": "3RnN4peoiCZX"
      }
    },
    {
      "cell_type": "code",
      "source": [
        "#mount google drive\n",
        "from google.colab import drive\n",
        "drive.mount('/content/drive')"
      ],
      "metadata": {
        "id": "iTbueLXC5-Xe"
      },
      "execution_count": null,
      "outputs": []
    },
    {
      "cell_type": "code",
      "source": [
        "#Import dataset\n",
        "df = pd.read_csv(\"/content/drive/My Drive/Colab Notebooks/Airbnb NYC 2019.csv\")    #read_csv functions reads csv file"
      ],
      "metadata": {
        "id": "TR5X4zMK_mm_"
      },
      "execution_count": null,
      "outputs": []
    },
    {
      "cell_type": "markdown",
      "source": [
        "### Dataset First View"
      ],
      "metadata": {
        "id": "x71ZqKXriCWQ"
      }
    },
    {
      "cell_type": "code",
      "source": [
        "# Dataset First Look\n",
        "df"
      ],
      "metadata": {
        "id": "LWNFOSvLl09H"
      },
      "execution_count": null,
      "outputs": []
    },
    {
      "cell_type": "markdown",
      "source": [
        "### Dataset Rows & Columns count"
      ],
      "metadata": {
        "id": "7hBIi_osiCS2"
      }
    },
    {
      "cell_type": "code",
      "source": [
        "# Dataset Rows & Columns count\n",
        "df.shape    #shape function returns no of rows and columns\n"
      ],
      "metadata": {
        "id": "Kllu7SJgmLij"
      },
      "execution_count": null,
      "outputs": []
    },
    {
      "cell_type": "markdown",
      "source": [
        "### Dataset Information"
      ],
      "metadata": {
        "id": "JlHwYmJAmNHm"
      }
    },
    {
      "cell_type": "code",
      "source": [
        "# Dataset Info\n",
        "df.info() #info function gives data types and null values information"
      ],
      "metadata": {
        "id": "e9hRXRi6meOf"
      },
      "execution_count": null,
      "outputs": []
    },
    {
      "cell_type": "markdown",
      "source": [
        "#### Duplicate Values"
      ],
      "metadata": {
        "id": "35m5QtbWiB9F"
      }
    },
    {
      "cell_type": "code",
      "source": [
        "# Dataset Duplicate Value Count\n",
        "df.duplicated().sum()   #duplicated function gives duplicated values"
      ],
      "metadata": {
        "id": "1sLdpKYkmox0"
      },
      "execution_count": null,
      "outputs": []
    },
    {
      "cell_type": "markdown",
      "source": [
        "There are no duplicate values in dataset."
      ],
      "metadata": {
        "id": "3p5zAfw4X6xA"
      }
    },
    {
      "cell_type": "markdown",
      "source": [
        "#### Missing Values/Null Values"
      ],
      "metadata": {
        "id": "PoPl-ycgm1ru"
      }
    },
    {
      "cell_type": "code",
      "source": [
        "# Missing Values/Null Values Count\n",
        "df.isnull().sum()"
      ],
      "metadata": {
        "id": "GgHWkxvamxVg"
      },
      "execution_count": null,
      "outputs": []
    },
    {
      "cell_type": "code",
      "source": [
        "# Visualizing the missing values\n",
        "df.isnull().sum().plot.bar(x='index')"
      ],
      "metadata": {
        "id": "3q5wnI3om9sJ"
      },
      "execution_count": null,
      "outputs": []
    },
    {
      "cell_type": "markdown",
      "source": [
        "The column last_review  contains 10052 null values.It disturbs the entire analysis.so deleting this column is advisible for analysis."
      ],
      "metadata": {
        "id": "3VA-EraiJzLo"
      }
    },
    {
      "cell_type": "code",
      "source": [
        "del df['last_review']     #del is keyword is used to delete columns"
      ],
      "metadata": {
        "id": "XtjjzyxyI5W-"
      },
      "execution_count": null,
      "outputs": []
    },
    {
      "cell_type": "markdown",
      "source": [
        "The column 'reviews_per_month'  contains 10052 null values.It is a numerical column.The null values are located at a place where the column 'number_of_reviews' contains zero value.so replacing null values with zero is good for analysis.   "
      ],
      "metadata": {
        "id": "Vj5XL-LWKp-F"
      }
    },
    {
      "cell_type": "code",
      "source": [
        "df['reviews_per_month'] = df['reviews_per_month'].fillna(0)    #fillna is used to fill null values"
      ],
      "metadata": {
        "id": "ghGn7-92I5jQ"
      },
      "execution_count": null,
      "outputs": []
    },
    {
      "cell_type": "code",
      "source": [
        "df"
      ],
      "metadata": {
        "id": "zvZdVNV2I5mu"
      },
      "execution_count": null,
      "outputs": []
    },
    {
      "cell_type": "code",
      "source": [
        "df.isnull().sum()"
      ],
      "metadata": {
        "id": "fDTr0mtXJMhE"
      },
      "execution_count": null,
      "outputs": []
    },
    {
      "cell_type": "code",
      "source": [
        "df = df.dropna()                  #dropna is used to drop null values"
      ],
      "metadata": {
        "id": "dxZPzBIkJMu2"
      },
      "execution_count": null,
      "outputs": []
    },
    {
      "cell_type": "code",
      "source": [
        "df"
      ],
      "metadata": {
        "id": "VH6XH0X9JM_w"
      },
      "execution_count": null,
      "outputs": []
    },
    {
      "cell_type": "code",
      "source": [
        "df.isnull().sum()"
      ],
      "metadata": {
        "id": "NDJ4IaBwJXwf"
      },
      "execution_count": null,
      "outputs": []
    },
    {
      "cell_type": "code",
      "source": [
        "#check for outliers\n",
        "sns.boxplot(x='price', data=df)\n",
        "plt.title('Box Plot of Your Data')\n",
        "plt.show()"
      ],
      "metadata": {
        "id": "KZ1NC-omfkDj"
      },
      "execution_count": null,
      "outputs": []
    },
    {
      "cell_type": "markdown",
      "source": [
        "In this dataset these outliers are important for analysis."
      ],
      "metadata": {
        "id": "2fuZEX0pK0Fl"
      }
    },
    {
      "cell_type": "markdown",
      "source": [
        "### What did you know about your dataset?"
      ],
      "metadata": {
        "id": "H0kj-8xxnORC"
      }
    },
    {
      "cell_type": "markdown",
      "source": [
        "The dataset is about Airbnb bookings in Newyork City in USA. This dataset includes a wide range of information such as such as property listings, booking details, host information, guest reviews, pricing, and geographical data.\n",
        "\n",
        "---\n",
        "\n"
      ],
      "metadata": {
        "id": "gfoNAAC-nUe_"
      }
    },
    {
      "cell_type": "markdown",
      "source": [
        "## ***2. Understanding Your Variables***"
      ],
      "metadata": {
        "id": "nA9Y7ga8ng1Z"
      }
    },
    {
      "cell_type": "code",
      "source": [
        "# Dataset Columns\n",
        "df.columns #gives name of all columns"
      ],
      "metadata": {
        "id": "j7xfkqrt5Ag5"
      },
      "execution_count": null,
      "outputs": []
    },
    {
      "cell_type": "code",
      "source": [
        "# Dataset Describe\n",
        "df.describe() #gives basic statistical information"
      ],
      "metadata": {
        "id": "DnOaZdaE5Q5t"
      },
      "execution_count": null,
      "outputs": []
    },
    {
      "cell_type": "markdown",
      "source": [
        "### Variables Description"
      ],
      "metadata": {
        "id": "PBTbrJXOngz2"
      }
    },
    {
      "cell_type": "markdown",
      "source": [
        "id - unique Id\n",
        "\n",
        "name - name of the listing\n",
        "\n",
        "host_id - unique host id\n",
        "\n",
        "neighbourhood_group - location\n",
        "\n",
        "neighbourhood - area\n",
        "\n",
        "latitude - latitude range\n",
        "\n",
        "longitude - longitude range\n",
        "\n",
        "room_type - type of listing\n",
        "\n",
        "price - price of listing\n",
        "\n",
        "minimum_nights - minimum nights to be paid for\n",
        "\n",
        "Number_of reviews - number of reviews\n",
        "\n",
        "last_review - content of the last review\n",
        "\n",
        "reviews per month - number of checks per month\n",
        "\n",
        "calculated_host_listing_count - Total count\n",
        "\n",
        "availability_365 - availability around the year"
      ],
      "metadata": {
        "id": "aJV4KIxSnxay"
      }
    },
    {
      "cell_type": "markdown",
      "source": [
        "### Check Unique Values for each variable."
      ],
      "metadata": {
        "id": "u3PMJOP6ngxN"
      }
    },
    {
      "cell_type": "code",
      "source": [
        "# Check Unique Values for each variable.\n",
        "df.nunique()  #Total count of unique values of each variable"
      ],
      "metadata": {
        "id": "zms12Yq5n-jE"
      },
      "execution_count": null,
      "outputs": []
    },
    {
      "cell_type": "code",
      "source": [
        "df['neighbourhood_group'].unique() #It returns the unique values in neighbourhood_group column"
      ],
      "metadata": {
        "id": "HmWAP10rUljd"
      },
      "execution_count": null,
      "outputs": []
    },
    {
      "cell_type": "code",
      "source": [
        "df['neighbourhood'].unique() #It returns the unique values in neighbourhood column"
      ],
      "metadata": {
        "id": "6iASG8dTU-3C"
      },
      "execution_count": null,
      "outputs": []
    },
    {
      "cell_type": "code",
      "source": [
        "df['room_type'].unique() #It returns the unique values in room type column"
      ],
      "metadata": {
        "id": "ZeuNGoqBUz82"
      },
      "execution_count": null,
      "outputs": []
    },
    {
      "cell_type": "markdown",
      "source": [
        "## 3. ***Data Wrangling***"
      ],
      "metadata": {
        "id": "dauF4eBmngu3"
      }
    },
    {
      "cell_type": "markdown",
      "source": [
        "### Data Wrangling Code"
      ],
      "metadata": {
        "id": "bKJF3rekwFvQ"
      }
    },
    {
      "cell_type": "code",
      "source": [
        "# Write your code to make your dataset analysis ready.\n",
        "df #This is the final dataframe after data cleaning"
      ],
      "metadata": {
        "id": "wk-9a2fpoLcV"
      },
      "execution_count": null,
      "outputs": []
    },
    {
      "cell_type": "markdown",
      "source": [
        "### What all manipulations have you done and insights you found?"
      ],
      "metadata": {
        "id": "MSa1f5Uengrz"
      }
    },
    {
      "cell_type": "markdown",
      "source": [
        "After loading the dataset,I checked for null values in the dataset.There are 10052 null values in reviews_per_month column and last_review column.The last_review column contains date of last review.Deleting this column wont affect the analysis.In reviews_per_month column the null values are located at a place where the column 'number_of_reviews' contains zero value.so replacing null values with zero is appropriate for analysis..After that I deleted the remaining null values.Now the dataset is free of null values and ready for exploration."
      ],
      "metadata": {
        "id": "LbyXE7I1olp8"
      }
    },
    {
      "cell_type": "markdown",
      "source": [
        "## ***4. Data Vizualization, Storytelling & Experimenting with charts : Understand the relationships between variables***"
      ],
      "metadata": {
        "id": "GF8Ens_Soomf"
      }
    },
    {
      "cell_type": "markdown",
      "source": [
        "**Univariate Analysis**"
      ],
      "metadata": {
        "id": "OqY3-5JQ1uYF"
      }
    },
    {
      "cell_type": "markdown",
      "source": [
        "#### Chart - 1"
      ],
      "metadata": {
        "id": "0wOQAZs5pc--"
      }
    },
    {
      "cell_type": "markdown",
      "source": [
        "**What is the most preferred Neighbourhood group in NYC?**"
      ],
      "metadata": {
        "id": "3-LBZJLml7QW"
      }
    },
    {
      "cell_type": "code",
      "source": [
        "# Chart - 2 visualization code\n",
        "fig1 = df['neighbourhood_group'].value_counts()\n",
        "  #the value_counts() function is used to count the occurrences of unique values in a Series or DataFrame column\n",
        "#plot pie chart\n",
        "fig1.plot.pie(labels = fig1.index ,autopct = '%.1f%%',fontsize=8,labeldistance=1.1)\n",
        "plt.show()"
      ],
      "metadata": {
        "id": "xQugX0nUmGs_"
      },
      "execution_count": null,
      "outputs": []
    },
    {
      "cell_type": "markdown",
      "source": [
        "##### 1. Why did you pick the specific chart?"
      ],
      "metadata": {
        "id": "K5QZ13OEpz2H"
      }
    },
    {
      "cell_type": "markdown",
      "source": [
        "Pie charts are a type of data visualization that represent data in a circular graph, where each slice of the pie represents a proportion of the whole. Pie charts are useful for conveying relative proportions of different categories or components within a dataset.\n"
      ],
      "metadata": {
        "id": "XESiWehPqBRc"
      }
    },
    {
      "cell_type": "markdown",
      "source": [
        "##### 2. What is/are the insight(s) found from the chart?"
      ],
      "metadata": {
        "id": "lQ7QKXXCp7Bj"
      }
    },
    {
      "cell_type": "markdown",
      "source": [
        "85% of listings located in Manhattan and Brooklyn neighbour_hood.Bronx and staten island has just 3% listings.It can say that Manhattan and Brooklyn are more preferred neighbour_hood groups and Staten island and Bronx is least preferred neighbour_hood groups"
      ],
      "metadata": {
        "id": "C_j1G7yiqdRP"
      }
    },
    {
      "cell_type": "markdown",
      "source": [
        "##### 3. Will the gained insights help creating a positive business impact?\n",
        "Are there any insights that lead to negative growth? Justify with specific reason."
      ],
      "metadata": {
        "id": "448CDAPjqfQr"
      }
    },
    {
      "cell_type": "markdown",
      "source": [
        "Yes, the insights  gained can definitely help create a positive business impact.\n",
        "\n",
        " 1.By focusing marketing efforts on Manhattan and Brooklyn, It can attract more users to these high-demand areas. Highlighting the unique features and attractions of these neighborhoods can lead to increased bookings and positive customer experiences.\n",
        "\n",
        "2 . Adjusting pricing strategies to reflect the high demand in Manhattan and Brooklyn can lead to improved revenue. Implementing dynamic pricing during peak periods and offering competitive rates can attract more bookings.\n",
        "\n",
        "3.Neglecting the less preferred neighborhoods like Bronx and Staten Island might result in missing out on potential customers.\n",
        "\n",
        "\n"
      ],
      "metadata": {
        "id": "3cspy4FjqxJW"
      }
    },
    {
      "cell_type": "markdown",
      "source": [
        "#### Chart - 2"
      ],
      "metadata": {
        "id": "KSlN3yHqYklG"
      }
    },
    {
      "cell_type": "markdown",
      "source": [
        "**What is the most preferred room type in NYC?**"
      ],
      "metadata": {
        "id": "VjjPNixMi6lq"
      }
    },
    {
      "cell_type": "code",
      "source": [
        "# Chart - 2 visualization code\n",
        "fig2 = df['room_type'].value_counts()\n",
        "#the value_counts() function is used to count the occurrences of unique values in a Series or DataFrame column\n",
        "fig2\n",
        "\n"
      ],
      "metadata": {
        "id": "R4YgtaqtYklH"
      },
      "execution_count": null,
      "outputs": []
    },
    {
      "cell_type": "code",
      "source": [
        "#plot pie chart\n",
        "fig2.plot.pie(labels = fig2.index,autopct = '%.1f%%',fontsize=8,labeldistance=1.1)\n",
        "plt.show()"
      ],
      "metadata": {
        "id": "Ih4GCxaJUCnG"
      },
      "execution_count": null,
      "outputs": []
    },
    {
      "cell_type": "markdown",
      "source": [
        "##### 1. Why did you pick the specific chart?"
      ],
      "metadata": {
        "id": "t6dVpIINYklI"
      }
    },
    {
      "cell_type": "markdown",
      "source": [
        "Pie charts are a type of data visualization that represent data in a circular graph, where each slice of the pie represents a proportion of the whole. Pie charts are useful for conveying relative proportions of different categories or components within a dataset"
      ],
      "metadata": {
        "id": "5aaW0BYyYklI"
      }
    },
    {
      "cell_type": "markdown",
      "source": [
        "##### 2. What is/are the insight(s) found from the chart?"
      ],
      "metadata": {
        "id": "ijmpgYnKYklI"
      }
    },
    {
      "cell_type": "markdown",
      "source": [
        "Most preferred room type in the NYC is Entire home/apt followed by private room and least preferred room type is shared room."
      ],
      "metadata": {
        "id": "PSx9atu2YklI"
      }
    },
    {
      "cell_type": "markdown",
      "source": [
        "##### 3. Will the gained insights help creating a positive business impact?\n",
        "Are there any insights that lead to negative growth? Justify with specific reason."
      ],
      "metadata": {
        "id": "-JiQyfWJYklI"
      }
    },
    {
      "cell_type": "markdown",
      "source": [
        "Yes, the insights gained can definitely help create a positive business impact.\n",
        "\n",
        "1.Knowing that guests prefer entire homes or private rooms can guide hosts and property owners to focus on these types of accommodations. This insight allows hosts to adjust their offerings to meet the demand, potentially attracting more bookings and increasing overall revenue.\n",
        "\n",
        "2.Hosts can strategically price these accommodations to maximize their earnings. They might also consider offering promotions or discounts for longer stays in these preferred room types.\n",
        "\n",
        "3.Adjust marketing campaigns to highlight the benefits of entire homes/apartments and private rooms, such as privacy, space, and access to kitchens and living rooms.\n",
        "\n",
        "4 . Neglecting shared rooms might result in missing out on potential customers.\n"
      ],
      "metadata": {
        "id": "BcBbebzrYklV"
      }
    },
    {
      "cell_type": "markdown",
      "source": [
        "#### Chart - 3"
      ],
      "metadata": {
        "id": "EM7whBJCYoAo"
      }
    },
    {
      "cell_type": "markdown",
      "source": [
        "**What is the most preferred neighbourhood in NYC?**"
      ],
      "metadata": {
        "id": "b0iO-YcYAGFm"
      }
    },
    {
      "cell_type": "code",
      "source": [
        "# Chart - 3 visualization code\n",
        "fig3 = df['neighbourhood'].value_counts().head(10)\n",
        "#the value_counts() function is used to count the occurrences of unique values in a Series or DataFrame column\n",
        "fig3"
      ],
      "metadata": {
        "id": "r_mPtkkD309P"
      },
      "execution_count": null,
      "outputs": []
    },
    {
      "cell_type": "code",
      "source": [
        "#plot horizontal bar chart for Neighbourhood vs bookings count\n",
        "plt.barh(fig3.index, fig3.values)           #barh is used to plot horizantal bar chart\n",
        "\n",
        "# Add labels and title\n",
        "plt.xlabel('Bookings Count')\n",
        "plt.ylabel('Neighbourhood')\n",
        "plt.title('Horizontal Bar Chart')\n",
        "\n",
        "# Show plot\n",
        "plt.show()"
      ],
      "metadata": {
        "id": "SvKK8TXW_kdy"
      },
      "execution_count": null,
      "outputs": []
    },
    {
      "cell_type": "markdown",
      "source": [
        "1.Why did you pick the specific chart?"
      ],
      "metadata": {
        "id": "j_t7HYf25Tqy"
      }
    },
    {
      "cell_type": "markdown",
      "source": [
        "Horizontal bar charts are typically used to display and compare categorical data. They are particularly useful when you have long category labels or when you want to emphasize the comparison of values across categories."
      ],
      "metadata": {
        "id": "5dBItgRVYoAp"
      }
    },
    {
      "cell_type": "markdown",
      "source": [
        "##### 2. What is/are the insight(s) found from the chart?"
      ],
      "metadata": {
        "id": "85gYPyotYoAp"
      }
    },
    {
      "cell_type": "markdown",
      "source": [
        "1.Williamsburg is the most preferred neighbourhood in NYC with 3917 bookings.\n",
        "\n",
        "2.Williamsburg and Bedford-Stuyvesant are the two neighbourhoods which have bookings more than 3500.\n",
        "\n",
        "3.The third preferred neighbourhood is Harlem with 2655 bookings.\n",
        "\n",
        "4.The bookings of six neighbourhoods are in between 1500 and 2000.\n"
      ],
      "metadata": {
        "id": "4jstXR6OYoAp"
      }
    },
    {
      "cell_type": "markdown",
      "source": [
        "##### 3. Will the gained insights help creating a positive business impact?\n",
        "Are there any insights that lead to negative growth? Justify with specific reason."
      ],
      "metadata": {
        "id": "RoGjAbkUYoAp"
      }
    },
    {
      "cell_type": "markdown",
      "source": [
        "Yes, the insights gained can definitely help create a positive business impact.\n",
        "\n",
        "1.Knowing that Williamsburg is the most preferred neighborhood with 3917 bookings allows businesses to focus their marketing efforts and resources on this area. They can tailor their services or products to cater to the specific needs and preferences of visitors to Williamsburg.\n",
        "\n",
        "2.Recognizing that both Williamsburg and Bedford-Stuyvesant have bookings exceeding 3500 suggests that these neighborhoods are in high demand among tourists or visitors. Businesses can capitalize on this information by strategically locating or expanding their operations in these areas to maximize their visibility and potential customer base.\n",
        "\n",
        "3.While focusing on popular neighborhoods like Williamsburg, Bedford-Stuyvesant, and Harlem can be beneficial, it's essential not to overlook other areas with lower booking numbers. Neglecting these neighborhoods could result in missed opportunities for business growth and expansion, especially if they have untapped potential or unique offerings that appeal to certain demographics."
      ],
      "metadata": {
        "id": "zfJ8IqMcYoAp"
      }
    },
    {
      "cell_type": "markdown",
      "source": [
        "#### Chart - 4 Bi-Variate Analysis"
      ],
      "metadata": {
        "id": "MPsKx1PD5tWL"
      }
    },
    {
      "cell_type": "markdown",
      "source": [
        "Who is the most preferred host?"
      ],
      "metadata": {
        "id": "oh_ZbuVJ531C"
      }
    },
    {
      "cell_type": "code",
      "source": [
        "# Chart - 4 visualization code\n",
        "fig4 = df.groupby(['host_id', 'host_name']).size().sort_values(ascending = False).head(10).reset_index(name = 'count')"
      ],
      "metadata": {
        "id": "wMQgm60xO7-C"
      },
      "execution_count": null,
      "outputs": []
    },
    {
      "cell_type": "code",
      "source": [
        "fig4"
      ],
      "metadata": {
        "id": "xTNSOsfKQinW"
      },
      "execution_count": null,
      "outputs": []
    },
    {
      "cell_type": "code",
      "source": [
        "#Plot bar chart for host_id vs Count\n",
        "plt.barh(fig4['host_name'], fig4['count'])\n",
        "\n",
        "# Add labels and title\n",
        "plt.xlabel('Bookings Count')\n",
        "plt.ylabel('host name')\n",
        "plt.title('Horizontal Bar Chart')\n",
        "\n",
        "# Show plot\n",
        "plt.show()"
      ],
      "metadata": {
        "id": "DcPpW3nN8wtO"
      },
      "execution_count": null,
      "outputs": []
    },
    {
      "cell_type": "markdown",
      "source": [
        "##### 1. Why did you pick the specific chart?"
      ],
      "metadata": {
        "id": "rk7UcySS5tWM"
      }
    },
    {
      "cell_type": "markdown",
      "source": [
        "Horizontal bar charts are typically used to display and compare categorical data. They are particularly useful when you have long category labels or when you want to emphasize the comparison of values across categories."
      ],
      "metadata": {
        "id": "Dqcyv0MN5tWM"
      }
    },
    {
      "cell_type": "markdown",
      "source": [
        "##### 2. What is/are the insight(s) found from the chart?"
      ],
      "metadata": {
        "id": "LfJk3qiD5tWM"
      }
    },
    {
      "cell_type": "markdown",
      "source": [
        "1.Sonder(NYC) is the most preferred host with 327 bookings in NYC.\n",
        "\n",
        "2.The second most preferred host is Blueground with 232 bookings.\n",
        "\n",
        "3.Remaining hosts have very less bookings compared to Sonder(NYC)."
      ],
      "metadata": {
        "id": "k1emS8Ff5tWM"
      }
    },
    {
      "cell_type": "markdown",
      "source": [
        "##### 3. Will the gained insights help creating a positive business impact?\n",
        "Are there any insights that lead to negative growth? Justify with specific reason."
      ],
      "metadata": {
        "id": "zbOKDtqz5tWN"
      }
    },
    {
      "cell_type": "markdown",
      "source": [
        "Yes, the insights gained can definitely help create a positive business impact.\n",
        "\n",
        "1.Knowing that Sonder(NYC) is the most preferred host can help competitors understand what attributes or services make it popular among customers. They can then work on enhancing their own offerings to compete more effectively.\n",
        "\n",
        "2.Blueground, as the second most preferred host, can use this information to identify areas where it can improve to potentially surpass Sonder(NYC) in bookings. Analyzing what sets Sonder(NYC) apart can help Blueground refine its own marketing and service strategies.\n",
        "\n",
        "3.The significantly lower number of bookings for remaining hosts compared to Sonder(NYC) and Blueground suggests that these hosts may struggle to gain traction in the market. This could lead to negative growth or even failure for smaller or less established hosts if they are unable to differentiate themselves or attract customers."
      ],
      "metadata": {
        "id": "RNdaSZOn5tWN"
      }
    },
    {
      "cell_type": "markdown",
      "source": [
        "#### Chart - 5"
      ],
      "metadata": {
        "id": "4Of9eVA-YrdM"
      }
    },
    {
      "cell_type": "markdown",
      "source": [
        "**Which is the most expensive Neighbourhood group?**"
      ],
      "metadata": {
        "id": "Yr8AxHISwzov"
      }
    },
    {
      "cell_type": "code",
      "source": [
        "# Chart - 5 visualization code\n",
        "costly_nhg = df.groupby('neighbourhood_group')['price'].mean().reset_index()\n",
        "costly_nhg"
      ],
      "metadata": {
        "id": "npe5bCtECdiS"
      },
      "execution_count": null,
      "outputs": []
    },
    {
      "cell_type": "code",
      "source": [
        "#plot bar plot for Neighbourhood_group vs Mean price\n",
        "fig5 = costly_nhg.plot(kind = 'bar',x ='neighbourhood_group',y = 'price',color = 'green')\n",
        "# Add labels and title\n",
        "plt.xlabel('location')\n",
        "plt.ylabel('mean price')\n",
        "plt.title('Mean price in Neighbourhood_groups')\n",
        "plt.show()"
      ],
      "metadata": {
        "id": "_ErFtQt7422T"
      },
      "execution_count": null,
      "outputs": []
    },
    {
      "cell_type": "markdown",
      "source": [
        "##### 1. Why did you pick the specific chart?"
      ],
      "metadata": {
        "id": "iky9q4vBYrdO"
      }
    },
    {
      "cell_type": "markdown",
      "source": [
        "A bar chart is a graphical representation of data where rectangular bars of varying lengths are used to visualize the values associated with different categories or groups,particularly effective for comparing and communicating categorical data in a clear and accessible manner."
      ],
      "metadata": {
        "id": "aJRCwT6DYrdO"
      }
    },
    {
      "cell_type": "markdown",
      "source": [
        "##### 2. What is/are the insight(s) found from the chart?"
      ],
      "metadata": {
        "id": "F6T5p64dYrdO"
      }
    },
    {
      "cell_type": "markdown",
      "source": [
        "**Insights:**\n",
        "\n",
        "1.It can clearly say that Manhattan is the most expensive neighbourhood group with mean price of 196.90 dollors followed by brooklyn with 124.41 dollors.\n",
        "\n",
        "2.Staten Island is the area with the least number of bookings has mean price higher than Queens and Bronx.\n",
        "\n",
        "3.Bronx is lower in mean price compare to all neighbourhood groups with 87.47 dollors."
      ],
      "metadata": {
        "id": "Xx8WAJvtYrdO"
      }
    },
    {
      "cell_type": "markdown",
      "source": [
        "##### 3. Will the gained insights help creating a positive business impact?\n",
        "Are there any insights that lead to negative growth? Justify with specific reason."
      ],
      "metadata": {
        "id": "y-Ehk30pYrdP"
      }
    },
    {
      "cell_type": "markdown",
      "source": [
        "Yes, the insights gained can definitely help create a positive business impact.\n",
        "\n",
        "1.Knowing Manhattan and Brooklyn have the highest average price points allows for targeted marketing campaigns emphasizing luxury or premium services specific to those areas.\n",
        "\n",
        "2.Staten Island's higher prices despite fewer bookings suggests potential overpricing. Adjusting prices competitively could attract more bookings and increase revenue.\n",
        "\n",
        "3.While targeting high-paying areas like Manhattan is beneficial, relying solely on that might neglect potential customers in other boroughs who are willing to spend within a certain range. Balancing pricing across neighborhoods to capture a wider customer base could drive further growth."
      ],
      "metadata": {
        "id": "jLNxxz7MYrdP"
      }
    },
    {
      "cell_type": "markdown",
      "source": [
        "#### Chart - 6"
      ],
      "metadata": {
        "id": "bamQiAODYuh1"
      }
    },
    {
      "cell_type": "markdown",
      "source": [
        "**Which is the most expensive room type?**"
      ],
      "metadata": {
        "id": "I0MYpE9q3Rmc"
      }
    },
    {
      "cell_type": "code",
      "source": [
        "# Chart - 6 visualization code\n",
        "fig6 = df.groupby('room_type')['price'].mean().reset_index()\n",
        "fig6"
      ],
      "metadata": {
        "id": "TIJwrbroYuh3"
      },
      "execution_count": null,
      "outputs": []
    },
    {
      "cell_type": "code",
      "source": [
        "#Plot Bar chart for Mean price vs Room types\n",
        "costly_room_type = fig6.plot.bar(x='room_type',y = 'price',legend = False)\n",
        "# Add labels and title\n",
        "plt.xlabel('Room type')\n",
        "plt.ylabel('mean price')\n",
        "plt.title('Mean price of Room types')\n",
        "plt.show()"
      ],
      "metadata": {
        "id": "M2u80JjIH8SH"
      },
      "execution_count": null,
      "outputs": []
    },
    {
      "cell_type": "markdown",
      "source": [
        "##### 1. Why did you pick the specific chart?"
      ],
      "metadata": {
        "id": "QHF8YVU7Yuh3"
      }
    },
    {
      "cell_type": "markdown",
      "source": [
        "A bar chart is a graphical representation of data where rectangular bars of varying lengths are used to visualize the values associated with different categories or groups,particularly effective for comparing and communicating categorical data in a clear and accessible manner."
      ],
      "metadata": {
        "id": "dcxuIMRPYuh3"
      }
    },
    {
      "cell_type": "markdown",
      "source": [
        "##### 2. What is/are the insight(s) found from the chart?"
      ],
      "metadata": {
        "id": "GwzvFGzlYuh3"
      }
    },
    {
      "cell_type": "markdown",
      "source": [
        "1.Entire home/apt room type is the expensive type.\n",
        "\n",
        "2.Despite having a mean price of $211, 52% of total bookings are done for the Entire home or apartment type.\n",
        "\n",
        "3.The second most expensive room type is a Private room with a mean price of $89. 47% of total bookings are done in this room type.\n",
        "\n",
        "4.The mean price of an Entire home/apt type is two times more than that of a Private room, but still, bookings of the Private room type are 5% less than those of the Entire room/apt room type.\n",
        "\n",
        "5.Least costliest room type is Shared room type,but the bookings of this room type is just 2.4%."
      ],
      "metadata": {
        "id": "uyqkiB8YYuh3"
      }
    },
    {
      "cell_type": "markdown",
      "source": [
        "##### 3. Will the gained insights help creating a positive business impact?\n",
        "Are there any insights that lead to negative growth? Justify with specific reason."
      ],
      "metadata": {
        "id": "qYpmQ266Yuh3"
      }
    },
    {
      "cell_type": "markdown",
      "source": [
        "Yes, the insights gained can definitely help create a positive business impact.\n",
        "\n",
        "1.Knowing that the Entire home/apt room type is the most expensive and yet comprises 52% of total bookings suggests that customers value privacy and space, even if it comes at a higher cost. This insight can guide pricing strategies, indicating that customers are willing to pay more for certain amenities.\n",
        "\n",
        "2.Recognizing that Private rooms are the second most expensive but have slightly lower bookings compared to Entire home/apt suggests that there may be room for optimization. This insight could prompt the business to adjust pricing or marketing strategies for Private rooms to increase their booking percentage.\n",
        "\n",
        "3.Since Shared rooms are the least costly yet have low bookings (just 2.4%), there's an opportunity to target marketing efforts towards this segment. Understanding why customers are less inclined to book this type of room could lead to adjustments in amenities, pricing, or promotional strategies to increase its appeal.\n"
      ],
      "metadata": {
        "id": "_WtzZ_hCYuh4"
      }
    },
    {
      "cell_type": "markdown",
      "source": [
        "#### Chart - 7 Multivariate Analysis"
      ],
      "metadata": {
        "id": "OH-pJp9IphqM"
      }
    },
    {
      "cell_type": "markdown",
      "source": [
        "**What is the most expensive Neighbourhood in NYC?**"
      ],
      "metadata": {
        "id": "RSwPIjqsjT_R"
      }
    },
    {
      "cell_type": "code",
      "source": [
        "# Chart - 7 visualization code\n",
        "fig7 = df.groupby('neighbourhood').agg({'price' : ['mean','count']}).reset_index().sort_values(by = ('price',  'mean'),ascending = False).head(10)\n",
        "fig7"
      ],
      "metadata": {
        "id": "kuRf4wtuphqN"
      },
      "execution_count": null,
      "outputs": []
    },
    {
      "cell_type": "code",
      "source": [
        "#plot horizontal bar chart for Neighbourhood vs (mean and Count)\n",
        "fig7.plot(kind = 'barh',y = 'price',x='neighbourhood')\n",
        "# Add labels and title\n",
        "plt.xlabel('Values')\n",
        "plt.ylabel('neighbourhood')\n",
        "plt.title('Horizontal Bar Chart')\n",
        "\n",
        "plt.show()"
      ],
      "metadata": {
        "id": "DZiFAXU8llCm"
      },
      "execution_count": null,
      "outputs": []
    },
    {
      "cell_type": "markdown",
      "source": [
        "##### 1. Why did you pick the specific chart?"
      ],
      "metadata": {
        "id": "bbFf2-_FphqN"
      }
    },
    {
      "cell_type": "markdown",
      "source": [
        "A horizontal bar chart is a graphical representation of data in which bars are plotted horizontally. When the category labels are long or when you have many categories to display,horizontal bar charts are used.It is useful for comparing values across categories, particularly when you want to emphasize the differences between categories."
      ],
      "metadata": {
        "id": "loh7H2nzphqN"
      }
    },
    {
      "cell_type": "markdown",
      "source": [
        "##### 2. What is/are the insight(s) found from the chart?"
      ],
      "metadata": {
        "id": "_ouA3fa0phqN"
      }
    },
    {
      "cell_type": "markdown",
      "source": [
        "1.With only one booking, It is difficult to say that Fort wadsmith is the most expensive neighbourhood.\n",
        "\n",
        "2.With considering bookings, Tribeca is the most expensive neighbourhood with mean price of 499 dollors and 177 bookings.\n",
        "\n",
        "\n",
        "  "
      ],
      "metadata": {
        "id": "VECbqPI7phqN"
      }
    },
    {
      "cell_type": "markdown",
      "source": [
        "##### 3. Will the gained insights help creating a positive business impact?\n",
        "Are there any insights that lead to negative growth? Justify with specific reason."
      ],
      "metadata": {
        "id": "Seke61FWphqN"
      }
    },
    {
      "cell_type": "markdown",
      "source": [
        "1.While Tribeca is known for its luxury and amenities, it may not be suitable for everyone due to its high cost of living.So many customers prefer low affordable neighbourhoods.It leads to negative growth"
      ],
      "metadata": {
        "id": "DW4_bGpfphqN"
      }
    },
    {
      "cell_type": "markdown",
      "source": [
        "#### Chart - 8"
      ],
      "metadata": {
        "id": "PIIx-8_IphqN"
      }
    },
    {
      "cell_type": "markdown",
      "source": [
        "Who is the most expensive host in NYC?"
      ],
      "metadata": {
        "id": "Bl9KixsKvOfm"
      }
    },
    {
      "cell_type": "code",
      "source": [
        "# Chart - 8 visualization code\n",
        "fig8 = df.groupby(['host_id','host_name']).agg({'price':['mean','count']}).reset_index().sort_values(by = ('price','mean'),ascending = False).head(10)\n",
        "fig8"
      ],
      "metadata": {
        "id": "lqAIGUfyphqO"
      },
      "execution_count": null,
      "outputs": []
    },
    {
      "cell_type": "code",
      "source": [
        "#plot horizontal bar chart\n",
        "fig8.plot(kind = 'barh',y = 'price',x='host_name')\n",
        "# Add labels and title\n",
        "plt.xlabel('Mean price')\n",
        "plt.ylabel('Neighbourhood')\n",
        "plt.title('Horizontal Bar Chart')\n",
        "\n",
        "plt.show()"
      ],
      "metadata": {
        "id": "ESbRryjJkoM-"
      },
      "execution_count": null,
      "outputs": []
    },
    {
      "cell_type": "markdown",
      "source": [
        "##### 1. Why did you pick the specific chart?"
      ],
      "metadata": {
        "id": "t27r6nlMphqO"
      }
    },
    {
      "cell_type": "markdown",
      "source": [
        "A horizontal bar chart is a graphical representation of data in which bars are plotted horizontally. When the category labels are long or when you have many categories to display,horizontal bar charts are used.It is useful for comparing values across categories, particularly when you want to emphasize the differences between categories."
      ],
      "metadata": {
        "id": "iv6ro40sphqO"
      }
    },
    {
      "cell_type": "markdown",
      "source": [
        "##### 2. What is/are the insight(s) found from the chart?"
      ],
      "metadata": {
        "id": "r2jJGEOYphqO"
      }
    },
    {
      "cell_type": "markdown",
      "source": [
        "1.Jalena,Erin and Katherine are the most expensive hosts with 10000 dollors,which is very higher compared to mean price 152 dollors\n",
        "\n",
        "2.The bookings of the above hosts is one."
      ],
      "metadata": {
        "id": "JHmIoDv_nbxN"
      }
    },
    {
      "cell_type": "markdown",
      "source": [
        "##### 3. Will the gained insights help creating a positive business impact?\n",
        "Are there any insights that lead to negative growth? Justify with specific reason."
      ],
      "metadata": {
        "id": "b0JNsNcRphqO"
      }
    },
    {
      "cell_type": "markdown",
      "source": [
        "1.The high cost of listings leads to less bookings.This can lead to negative growth."
      ],
      "metadata": {
        "id": "xvSq8iUTphqO"
      }
    },
    {
      "cell_type": "markdown",
      "source": [
        "#### Chart - 9"
      ],
      "metadata": {
        "id": "BZR9WyysphqO"
      }
    },
    {
      "cell_type": "markdown",
      "source": [
        "**Host with most reviews?**"
      ],
      "metadata": {
        "id": "50SfVxmm70i4"
      }
    },
    {
      "cell_type": "code",
      "source": [
        "# Chart - 9 visualization code\n",
        "fig9 = df.groupby(['host_id','host_name'])['number_of_reviews'].sum().reset_index().sort_values(by = 'number_of_reviews',ascending = False).head(10)\n",
        "fig9"
      ],
      "metadata": {
        "id": "TdPTWpAVphqO"
      },
      "execution_count": null,
      "outputs": []
    },
    {
      "cell_type": "code",
      "source": [
        "#plot horizontal bar chart\n",
        "fig9.plot(kind = 'barh',y = 'number_of_reviews',x='host_name')\n",
        "# Add labels and title\n",
        "plt.xlabel('Number of Reviews')\n",
        "plt.ylabel('Host_name')\n",
        "plt.title('Horizontal Bar Chart')\n",
        "\n",
        "plt.show()"
      ],
      "metadata": {
        "id": "6CZZ08cnTDlN"
      },
      "execution_count": null,
      "outputs": []
    },
    {
      "cell_type": "markdown",
      "source": [
        "##### 1. Why did you pick the specific chart?"
      ],
      "metadata": {
        "id": "jj7wYXLtphqO"
      }
    },
    {
      "cell_type": "markdown",
      "source": [
        "A horizontal bar chart is a graphical representation of data in which bars are plotted horizontally. When the category labels are long or when you have many categories to display,horizontal bar charts are used.It is useful for comparing values across categories, particularly when you want to emphasize the differences between categories."
      ],
      "metadata": {
        "id": "Ob8u6rCTphqO"
      }
    },
    {
      "cell_type": "markdown",
      "source": [
        "##### 2. What is/are the insight(s) found from the chart?"
      ],
      "metadata": {
        "id": "eZrbJ2SmphqO"
      }
    },
    {
      "cell_type": "markdown",
      "source": [
        "1.Maya is the host who got the most number of reviews foloowed by Brooklyn& Breakfast -Len-.\n",
        "\n",
        "2.There is only difference of 65 reviews between top two hosts.\n",
        "\n",
        "3.The host with the most bookings is Sandor(NYC) got less reviews than Maya."
      ],
      "metadata": {
        "id": "mZtgC_hjphqO"
      }
    },
    {
      "cell_type": "markdown",
      "source": [
        "##### 3. Will the gained insights help creating a positive business impact?\n",
        "Are there any insights that lead to negative growth? Justify with specific reason."
      ],
      "metadata": {
        "id": "rFu4xreNphqO"
      }
    },
    {
      "cell_type": "markdown",
      "source": [
        "Yes, the insights gained can definitely help create a positive business impact.\n",
        "\n",
        "1.Sandor has the most bookings despite having fewer reviews than Maya. This could indicate that Sandor is successful at attracting guests through other means such as marketing or word-of-mouth referrals.\n",
        "\n",
        "2.The hosts which got more reviews compared to Sandor(NYC) are lacking the marketing strategies or poor maintaince.\n",
        "\n",
        "3.To make positive growth,improve the marketing strategies and maintaince of the listings."
      ],
      "metadata": {
        "id": "ey_0qi68phqO"
      }
    },
    {
      "cell_type": "markdown",
      "source": [
        "#### Chart - 10"
      ],
      "metadata": {
        "id": "YJ55k-q6phqO"
      }
    },
    {
      "cell_type": "markdown",
      "source": [
        "What is the Mean prices of most preferred Neighbourhoods?"
      ],
      "metadata": {
        "id": "NVqFNf7c1lBr"
      }
    },
    {
      "cell_type": "code",
      "source": [
        "fig10 = df.groupby('neighbourhood').agg({'price' : ['mean','count']}).reset_index().sort_values(by = ('price',  'count'),ascending = False).head(10)\n",
        "fig10"
      ],
      "metadata": {
        "id": "uY7c7U4Tzgir"
      },
      "execution_count": null,
      "outputs": []
    },
    {
      "cell_type": "code",
      "source": [
        "#plot horizontal bar chart for Neighbourhood vs (mean and Count)\n",
        "fig10.plot(kind = 'barh',y = 'price',x='neighbourhood')\n",
        "# Add labels and title\n",
        "plt.xlabel('Values')\n",
        "plt.ylabel('neighbourhood')\n",
        "plt.title('Horizontal Bar Chart')\n",
        "\n",
        "plt.show()"
      ],
      "metadata": {
        "id": "LSDTGK3ZwNoO"
      },
      "execution_count": null,
      "outputs": []
    },
    {
      "cell_type": "markdown",
      "source": [
        "##### 1. Why did you pick the specific chart?"
      ],
      "metadata": {
        "id": "gCFgpxoyphqP"
      }
    },
    {
      "cell_type": "markdown",
      "source": [
        "A horizontal bar chart is a graphical representation of data in which bars are plotted horizontally. When the category labels are long or when you have many categories to display,horizontal bar charts are used.It is useful for comparing values across categories, particularly when you want to emphasize the differences between categories."
      ],
      "metadata": {
        "id": "TVxDimi2phqP"
      }
    },
    {
      "cell_type": "markdown",
      "source": [
        "##### 2. What is/are the insight(s) found from the chart?"
      ],
      "metadata": {
        "id": "OVtJsKN_phqQ"
      }
    },
    {
      "cell_type": "markdown",
      "source": [
        "1.Williamsburb neighbourhood with most bookings has the mean price of just 143 dollors.\n",
        "\n",
        "2.In most preferred neighbourhoods,Mid town neighbourhood mean price(282 dollors) is very high and Bushwik neighbourhood mean price very low(84 dollors).Bushwik bookings are 1000 more than the Mid town.\n"
      ],
      "metadata": {
        "id": "ngGi97qjphqQ"
      }
    },
    {
      "cell_type": "markdown",
      "source": [
        "##### 3. Will the gained insights help creating a positive business impact?\n",
        "Are there any insights that lead to negative growth? Justify with specific reason."
      ],
      "metadata": {
        "id": "lssrdh5qphqQ"
      }
    },
    {
      "cell_type": "markdown",
      "source": [
        "1.Understanding that Midtown has a significantly higher mean price compared to Bushwick, despite having fewer bookings, suggests different market segments. Tailoring marketing strategies and service offerings to cater to these distinct segments could lead to increased customer satisfaction and loyalty.\n",
        "\n",
        "2.Knowing that the Williamsburg neighborhood, with the most bookings, has a mean price of $143, can guide pricing strategies. If this price point correlates with high demand, it suggests that potential guests find it attractive. Capitalizing on this insight, you could adjust pricing in other neighborhoods to align with this successful pricing model, potentially increasing bookings and revenue."
      ],
      "metadata": {
        "id": "tBpY5ekJphqQ"
      }
    },
    {
      "cell_type": "markdown",
      "source": [
        "#### Chart - 11"
      ],
      "metadata": {
        "id": "w78wRVvKAfIx"
      }
    },
    {
      "cell_type": "markdown",
      "source": [
        "**How bookings of room types are distributed in each neighbourhood_group?**"
      ],
      "metadata": {
        "id": "vvNx86ZXAfIx"
      }
    },
    {
      "cell_type": "code",
      "source": [
        "# Chart - 11 visualization code\n",
        "df.groupby(['neighbourhood_group', 'room_type'])['name'].count().unstack()"
      ],
      "metadata": {
        "id": "voNWTmhpAfIx"
      },
      "execution_count": null,
      "outputs": []
    },
    {
      "cell_type": "code",
      "source": [
        "\n",
        "fig11 = df.groupby(['neighbourhood_group', 'room_type'])['name'].count().unstack(fill_value=0)\n",
        "\n",
        "# Plot a bar chart for each location\n",
        "fig11.plot(kind='bar', stacked=True)\n",
        "# Add labels and title\n",
        "plt.xlabel('Location')\n",
        "plt.ylabel('Bookings Count')\n",
        "plt.title('Distribution of Bookings')\n",
        "plt.xticks(rotation=45)  # Rotate x-axis labels for better readability\n",
        "plt.show()\n",
        "\n",
        "\n",
        "\n",
        "\n",
        "\n",
        "\n"
      ],
      "metadata": {
        "id": "AzMF0hxRAfIy"
      },
      "execution_count": null,
      "outputs": []
    },
    {
      "cell_type": "markdown",
      "source": [
        "##### 1. Why did you pick the specific chart?"
      ],
      "metadata": {
        "id": "VzGMzKXKAfIy"
      }
    },
    {
      "cell_type": "markdown",
      "source": [
        "A stacked bar chart is a type of bar chart that represents multiple categories as segments within each bar. Each bar represents a total, and the segments of the bar represent the proportion of that total contributed by different categories. This chart is useful for visualizing the composition of a whole and the contribution of individual components."
      ],
      "metadata": {
        "id": "8-nnGKAmAfIy"
      }
    },
    {
      "cell_type": "markdown",
      "source": [
        "##### 2. What is/are the insight(s) found from the chart?"
      ],
      "metadata": {
        "id": "3MelhLDJAfIy"
      }
    },
    {
      "cell_type": "markdown",
      "source": [
        "1.Overall most preferred room type in NYC is Entire home/apt room type,but every neighbourhood group except Manhattan, most preferred room type is Private room type.\n",
        "\n",
        "2.Most customers preferring Entire home/apt type in Manhattan and Private room type in Brooklyn.\n",
        "\n",
        "3.Staten Island bookings are lower in all room types."
      ],
      "metadata": {
        "id": "22IPRKKYAfIy"
      }
    },
    {
      "cell_type": "markdown",
      "source": [
        "##### 3. Will the gained insights help creating a positive business impact?\n",
        "Are there any insights that lead to negative growth? Justify with specific reason."
      ],
      "metadata": {
        "id": "pqcIr2yUAfIy"
      }
    },
    {
      "cell_type": "markdown",
      "source": [
        "1.Knowing that the overall preference in NYC is for Entire home/apt, but Private room is preferred in most neighborhoods except Manhattan, allows for targeted marketing campaigns. For example, you could tailor advertisements to highlight the privacy and intimacy of Private rooms in non-Manhattan neighborhoods, while focusing on the luxury and convenience of Entire home/apt in Manhattan.\n",
        "\n",
        "2.Understanding the preferences of customers in different neighborhoods enables you to optimize your inventory accordingly. You can allocate resources more effectively by offering more Private room options in Brooklyn and more Entire home/apt options in Manhattan.\n",
        "\n",
        "3.The insight that bookings are lower in all room types in Staten Island could lead to stagnant growth in that area. If demand is consistently low and doesn't show signs of improvement, it might not be financially viable to invest resources into expanding operations there."
      ],
      "metadata": {
        "id": "scUi89hlAfIy"
      }
    },
    {
      "cell_type": "markdown",
      "source": [
        "#### Chart - 12"
      ],
      "metadata": {
        "id": "n3dbpmDWp1ck"
      }
    },
    {
      "cell_type": "markdown",
      "source": [
        "**How reviews of room types distributed in each neighbourhood?**"
      ],
      "metadata": {
        "id": "FGLHgdbj0wTM"
      }
    },
    {
      "cell_type": "code",
      "source": [
        "# Chart - 12 visualization code\n",
        "df.groupby(['neighbourhood_group', 'room_type'])['number_of_reviews'].sum()\n"
      ],
      "metadata": {
        "id": "bwevp1tKp1ck"
      },
      "execution_count": null,
      "outputs": []
    },
    {
      "cell_type": "code",
      "source": [
        "fig12 = df.groupby(['neighbourhood_group', 'room_type'])['number_of_reviews'].sum().unstack(fill_value=0)\n",
        "\n",
        "# Plot a bar chart for each location\n",
        "fig12.plot(kind='bar', stacked=False)\n",
        "# Add labels and title\n",
        "plt.xlabel('Location')\n",
        "plt.ylabel('Number of   Reviews')\n",
        "plt.title('Distribution of reviews')\n",
        "plt.xticks(rotation=45)  # Rotate x-axis labels for better readability\n",
        "plt.show()"
      ],
      "metadata": {
        "id": "QQ-M6261G2J4"
      },
      "execution_count": null,
      "outputs": []
    },
    {
      "cell_type": "markdown",
      "source": [
        "##### 1. Why did you pick the specific chart?"
      ],
      "metadata": {
        "id": "ylSl6qgtp1ck"
      }
    },
    {
      "cell_type": "markdown",
      "source": [
        "Unstacked bar charts are valuable tools for visualizing and comparing categorical data across multiple groups or categories. They allow for the clear representation of the composition and distribution of data within each category, making them particularly useful for displaying the relationship between different groups and their respective subgroups."
      ],
      "metadata": {
        "id": "m2xqNkiQp1ck"
      }
    },
    {
      "cell_type": "markdown",
      "source": [
        "##### 2. What is/are the insight(s) found from the chart?"
      ],
      "metadata": {
        "id": "ZWILFDl5p1ck"
      }
    },
    {
      "cell_type": "markdown",
      "source": [
        "1.Despite have less number of bookings than Manhattan, Brooklyn is the Most reviewed neighbourhood group in Entire home/apt type.\n",
        "\n",
        "2.Brooklyn is the most reviewed neighbourhood group in private room type.\n",
        "\n",
        "3.Manhattan is the most reviewed neighbourhood group in shared room type.\n",
        "\n",
        "4.Staten Island is the least reviewed neighbourhood group in all room types."
      ],
      "metadata": {
        "id": "x-lUsV2mp1ck"
      }
    },
    {
      "cell_type": "markdown",
      "source": [
        "##### 3. Will the gained insights help creating a positive business impact?\n",
        "Are there any insights that lead to negative growth? Justify with specific reason."
      ],
      "metadata": {
        "id": "M7G43BXep1ck"
      }
    },
    {
      "cell_type": "markdown",
      "source": [
        "1.Focusing on promoting Brooklyn properties, especially entire homes/apartments and private rooms, can attract more attention and bookings. Highlighting Brooklyn's popularity among reviewers can enhance its appeal to potential guests.\n",
        "\n",
        "2.Tailoring marketing campaigns to emphasize Brooklyn's unique attractions, such as cultural diversity, vibrant neighborhoods, and more affordable accommodation options compared to Manhattan, can attract a broader audience.\n",
        "\n",
        "3.Ignoring the least-reviewed neighborhood group, Staten Island, entirely could also be a missed opportunity. It might be worth exploring ways to increase visibility and attractiveness for properties in Staten Island, especially if there are untapped markets or unique selling points to leverage."
      ],
      "metadata": {
        "id": "5wwDJXsLp1cl"
      }
    },
    {
      "cell_type": "markdown",
      "source": [
        "#### Chart - 13"
      ],
      "metadata": {
        "id": "5ZnGlaquAI-c"
      }
    },
    {
      "cell_type": "markdown",
      "source": [
        "**Mean price of room types distribution in each neighbourhood_group?**"
      ],
      "metadata": {
        "id": "OWLRYmC4AI-e"
      }
    },
    {
      "cell_type": "code",
      "source": [
        "# Chart - 13 visualization code\n",
        "df.groupby(['neighbourhood_group', 'room_type'])['price'].mean()"
      ],
      "metadata": {
        "id": "ypbGvl4XAI-e"
      },
      "execution_count": null,
      "outputs": []
    },
    {
      "cell_type": "code",
      "source": [
        "fig13 = df.groupby(['neighbourhood_group', 'room_type'])['price'].mean().unstack(fill_value=0)\n",
        "\n",
        "# Plot a bar chart for each location\n",
        "fig13.plot(kind='bar', stacked=False)\n",
        "# Add labels and title\n",
        "plt.xlabel('Location')\n",
        "plt.ylabel('Mean Price')\n",
        "plt.title('Mean price of room types in each neighbourhood_group')\n",
        "plt.xticks(rotation=45)  # Rotate x-axis labels for better readability\n",
        "plt.show()"
      ],
      "metadata": {
        "id": "-4aSCnD5AI-f"
      },
      "execution_count": null,
      "outputs": []
    },
    {
      "cell_type": "markdown",
      "source": [
        "##### 1. Why did you pick the specific chart?"
      ],
      "metadata": {
        "id": "VLhsVjpyAI-f"
      }
    },
    {
      "cell_type": "markdown",
      "source": [
        "Unstacked bar charts are valuable tools for visualizing and comparing categorical data across multiple groups or categories. They allow for the clear representation of the composition and distribution of data within each category, making them particularly useful for displaying the relationship between different groups and their respective subgroups."
      ],
      "metadata": {
        "id": "3c_YeG5SAI-f"
      }
    },
    {
      "cell_type": "markdown",
      "source": [
        "##### 2. What is/are the insight(s) found from the chart?"
      ],
      "metadata": {
        "id": "nSkQ4MpNAI-g"
      }
    },
    {
      "cell_type": "markdown",
      "source": [
        "1.The mean price of all room types are higher in Manhattan.\n",
        "\n",
        "2.Mean price of entire home/apt type in Brooklyn and Staten Island is on same range. But the bookings of Brooklyn is very high compared to Stated Island.\n",
        "\n",
        "3.Mean price of entire home/apt type in Staten Island is more than Queens entire home/apt type.But the bookings of Queens is almost 10 times higher than Staten Island.\n",
        "\n",
        "4.Mean price of shared room in Brooklyn is lower than all neighbourhoods.But shared room bookings of Brooklyn is higher than Queens,Bronx and Staten Island.\n",
        "\n",
        "5.Except Manhattan, all neighbourhood_groups have same range of mean price in Private room type."
      ],
      "metadata": {
        "id": "wft3iiFPAI-g"
      }
    },
    {
      "cell_type": "markdown",
      "source": [
        "##### 3. Will the gained insights help creating a positive business impact?\n",
        "Are there any insights that lead to negative growth? Justify with specific reason."
      ],
      "metadata": {
        "id": "19h6UhA1AI-g"
      }
    },
    {
      "cell_type": "markdown",
      "source": [
        "1.Knowing that the mean price of all room types is higher in Manhattan suggests that there's a potential for higher revenue and profit margins in this area. Businesses can leverage this information to focus marketing efforts on Manhattan or adjust pricing strategies accordingly to maximize returns.\n",
        "\n",
        "2.Despite the mean price of entire home/apt type being similar in Brooklyn and Staten Island, Brooklyn sees significantly higher bookings. This indicates a higher demand or popularity for accommodations in Brooklyn. Businesses can capitalize on this insight by investing more resources into properties or marketing efforts in Brooklyn to further enhance bookings and revenue.\n",
        "\n",
        "3.Despite having lower prices for shared rooms compared to other neighborhoods, Brooklyn still sees high bookings in this room type. This suggests that there's a market demand for affordable shared accommodations in Brooklyn. Businesses can use this insight to adjust pricing strategies and potentially increase revenue by offering competitive prices for shared rooms.\n",
        "\n",
        "4.Except for Manhattan, all neighborhoods have a similar range of mean prices for private room types. This insight can help businesses maintain competitive pricing strategies across different neighborhoods to attract a wider range of customers.\n",
        "\n",
        "5.Despite having higher mean prices for entire home/apt types compared to Queens, Staten Island sees significantly lower bookings. This indicates a potential issue with demand or attractiveness of accommodations in Staten Island despite higher pricing. Businesses operating in Staten Island may need to reassess their marketing strategies or consider adjusting prices to align with market demand and stimulate bookings."
      ],
      "metadata": {
        "id": "fs6EEnfMAI-g"
      }
    },
    {
      "cell_type": "markdown",
      "source": [
        "#### Chart - 14 - Correlation Heatmap"
      ],
      "metadata": {
        "id": "NC_X3p0fY2L0"
      }
    },
    {
      "cell_type": "code",
      "source": [
        "# Correlation Heatmap visualization code\n",
        "# Compute the correlation matrix\n",
        "corr = df.loc[:,[ 'price',\n",
        "        'number_of_reviews', 'reviews_per_month','minimum_nights','availability_365'\n",
        "       ]].corr()\n",
        "\n",
        "# Create a heatmap\n",
        "plt.figure(figsize=(8, 6))\n",
        "sns.heatmap(corr, annot=True, cmap='coolwarm', fmt=\".2f\")\n",
        "\n",
        "# Add title\n",
        "plt.title('Correlation Heatmap')\n",
        "\n",
        "# Show plot\n",
        "plt.show()"
      ],
      "metadata": {
        "id": "xyC9zolEZNRQ"
      },
      "execution_count": null,
      "outputs": []
    },
    {
      "cell_type": "markdown",
      "source": [
        "##### 1. Why did you pick the specific chart?"
      ],
      "metadata": {
        "id": "UV0SzAkaZNRQ"
      }
    },
    {
      "cell_type": "markdown",
      "source": [
        "A correlation heat map is a graphical representation of the correlation matrix, where correlation coefficients between variables are displayed as colors in a grid.Correlation heat maps provide a visually intuitive way to explore relationships between variables"
      ],
      "metadata": {
        "id": "DVPuT8LYZNRQ"
      }
    },
    {
      "cell_type": "markdown",
      "source": [
        "##### 2. What is/are the insight(s) found from the chart?"
      ],
      "metadata": {
        "id": "YPEH6qLeZNRQ"
      }
    },
    {
      "cell_type": "markdown",
      "source": [
        "1.Number of reviews and Reviews per month has the 0.59 correlation.From this we can say, if number of reviews and reviews per month has the positive correlation.\n",
        "\n",
        "2.Remaining numerical columns have week correlation."
      ],
      "metadata": {
        "id": "bfSqtnDqZNRR"
      }
    },
    {
      "cell_type": "markdown",
      "source": [
        "#### Chart - 15 - Pair Plot"
      ],
      "metadata": {
        "id": "q29F0dvdveiT"
      }
    },
    {
      "cell_type": "code",
      "source": [
        "df.columns"
      ],
      "metadata": {
        "id": "cV1W1hBWOs9_"
      },
      "execution_count": null,
      "outputs": []
    },
    {
      "cell_type": "code",
      "source": [
        "# Pair Plot visualization code\n",
        "# Create pair plot\n",
        "sns.pairplot(df.loc[:,[ 'price',\n",
        "        'number_of_reviews', 'reviews_per_month','minimum_nights','availability_365'\n",
        "       ]])\n",
        "\n",
        "# Show plot\n",
        "plt.show()"
      ],
      "metadata": {
        "id": "o58-TEIhveiU"
      },
      "execution_count": null,
      "outputs": []
    },
    {
      "cell_type": "markdown",
      "source": [
        "##### 1. Why did you pick the specific chart?"
      ],
      "metadata": {
        "id": "EXh0U9oCveiU"
      }
    },
    {
      "cell_type": "markdown",
      "source": [
        "Pair plots, also known as scatterplot matrices, are a useful visualization tool for exploring relationships between multiple variables in a dataset."
      ],
      "metadata": {
        "id": "eMmPjTByveiU"
      }
    },
    {
      "cell_type": "markdown",
      "source": [
        "##### 2. What is/are the insight(s) found from the chart?"
      ],
      "metadata": {
        "id": "22aHeOlLveiV"
      }
    },
    {
      "cell_type": "markdown",
      "source": [
        "1.Number of reviews and Reviews per month columns has the strong Positive correlation.\n",
        "\n",
        "2.Remaining numerical columns have very weak correlation.There is no relationship between them."
      ],
      "metadata": {
        "id": "uPQ8RGwHveiV"
      }
    },
    {
      "cell_type": "markdown",
      "source": [
        "## **5. Solution to Business Objective**"
      ],
      "metadata": {
        "id": "JcMwzZxoAimU"
      }
    },
    {
      "cell_type": "markdown",
      "source": [
        "#### What do you suggest the client to achieve Business Objective ?\n",
        "Explain Briefly."
      ],
      "metadata": {
        "id": "8G2x9gOozGDZ"
      }
    },
    {
      "cell_type": "markdown",
      "source": [
        "1.From the above analysis I can say that Manhattan and Brooklyn are major business areas for Airbnb.Focus on these neighbourhood groups will increase the business\n",
        "\n",
        "2.By improving targeted marketing campaigns,highlighting beauties of these locations will help in increase the business.\n",
        "\n",
        "3.Improve the facilities of room types or modifying rooms based on the interests of customers will help in increase the business.\n",
        "\n",
        "\n"
      ],
      "metadata": {
        "id": "pASKb0qOza21"
      }
    },
    {
      "cell_type": "markdown",
      "source": [
        "# **Conclusion**"
      ],
      "metadata": {
        "id": "gCX9965dhzqZ"
      }
    },
    {
      "cell_type": "markdown",
      "source": [
        "The analysis of Airbnb booking data has revealed several key insights in studying the behaviour of customers and business of NYC.These findings have important implications for both Airbnb hosts and users.Moving forward, there is a need for further research in reviews.In dataset they only provide number of reviews,but there is need of positive reviews and negative reviews to study about the hosts maintaince and behaviour. Overall, this analysis underscores the importance of understanding Airbnb booking behavior and offers valuable insights for improving the Airbnb experience for all stakeholders.\""
      ],
      "metadata": {
        "id": "Fjb1IsQkh3yE"
      }
    },
    {
      "cell_type": "markdown",
      "source": [
        "### ***Hurrah! You have successfully completed your EDA Capstone Project !!!***"
      ],
      "metadata": {
        "id": "gIfDvo9L0UH2"
      }
    }
  ]
}